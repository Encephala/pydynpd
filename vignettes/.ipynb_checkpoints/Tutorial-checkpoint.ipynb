{
 "cells": [
  {
   "cell_type": "markdown",
   "id": "a4357a62",
   "metadata": {},
   "source": [
    "# abond command\n",
    "In this tutorial, we illustrate the functions of pydynpd with examples. The first data set is one from Arellano and Bond (1991). It is an unblanced panel with 140 firms over 9 years (1976-1984). You can download the data (data.csv) from the /benchmark/code folder. We first consider the following basic model:\n",
    "\n",
    "$$\n",
    "\\begin{align}\n",
    "n_{i,t}=\\alpha_1n_{i,t-1}+\\alpha_2n_{i,t-2}+\\beta_1w_{i,t}+\\gamma_1k_{i,t}+u_{i}+\\epsilon_{i,t}\n",
    "\\end{align}\n",
    "$$\n",
    "\n",
    "In the model above, variables $n$, $w$, and $k$ are the natural logarithm of employment, wage, and capital respectively. $u_{i}$ is unobserved fixed effect and $\\epsilon_{i,t}$ is idiosyncraic error. \n",
    "\n",
    "To estimate the model, we first load data to Pandas data frame:\n",
    "\n"
   ]
  },
  {
   "cell_type": "code",
   "execution_count": 1,
   "id": "7ca931c1-e7d1-484e-aae8-727801b3a60d",
   "metadata": {},
   "outputs": [
    {
     "ename": "ModuleNotFoundError",
     "evalue": "No module named 'pydynpd'",
     "output_type": "error",
     "traceback": [
      "\u001b[1;31m---------------------------------------------------------------------------\u001b[0m",
      "\u001b[1;31mModuleNotFoundError\u001b[0m                       Traceback (most recent call last)",
      "\u001b[1;32m~\\AppData\\Local\\Temp/ipykernel_6876/497402013.py\u001b[0m in \u001b[0;36m<module>\u001b[1;34m\u001b[0m\n\u001b[0;32m      1\u001b[0m \u001b[1;32mimport\u001b[0m \u001b[0mpandas\u001b[0m \u001b[1;32mas\u001b[0m \u001b[0mpd\u001b[0m\u001b[1;33m\u001b[0m\u001b[1;33m\u001b[0m\u001b[0m\n\u001b[1;32m----> 2\u001b[1;33m \u001b[1;32mfrom\u001b[0m  \u001b[0mpydynpd\u001b[0m \u001b[1;32mimport\u001b[0m \u001b[0mregression\u001b[0m\u001b[1;33m\u001b[0m\u001b[1;33m\u001b[0m\u001b[0m\n\u001b[0m\u001b[0;32m      3\u001b[0m \u001b[0mdf\u001b[0m \u001b[1;33m=\u001b[0m \u001b[0mpd\u001b[0m\u001b[1;33m.\u001b[0m\u001b[0mread_csv\u001b[0m\u001b[1;33m(\u001b[0m\u001b[1;34m\"test_data.csv\"\u001b[0m\u001b[1;33m)\u001b[0m\u001b[1;33m\u001b[0m\u001b[1;33m\u001b[0m\u001b[0m\n",
      "\u001b[1;31mModuleNotFoundError\u001b[0m: No module named 'pydynpd'"
     ]
    }
   ],
   "source": [
    "import pandas as pd\n",
    "from  pydynpd import regression\n",
    "df = pd.read_csv(\"test_data.csv\")"
   ]
  },
  {
   "cell_type": "markdown",
   "id": "6a81769e",
   "metadata": {},
   "source": [
    "Then we construct command string to describe the model. A command string has two or three parts, which are separated by |.\n",
    "Part 1 is a list starting with the dependent variable, and followed by independent variables except time dummies. Given the model, part 1 is:\n",
    "\n",
    "```\n",
    "n L1.n L2.n w k\n",
    "```\n",
    "In the command above, L is the lag operator as in L1.n (i.e., $n_{i,t-1}$) or L2.n for 2 lags of n (i.e., $n_{i,t-2}$). \n",
    "\n",
    "Part 2 indicates how instruments are created. First, suppose we want to use the second and third lags of dependent variable n (i.e., L2.n and L3.n) as instruments, then we include the following GMM list:\n",
    "\n",
    "```\n",
    "GMM(n, 2:3)\n",
    "```\n",
    "Next, suppose we believe that variable w is a predetermined variable and use its first and deeper lags (i.e., L1.w, L2.w, ...) as instruments. Then we include a second GMM list:\n",
    "\n",
    "```\n",
    "GMM(w, 1:.)\n",
    "```\n",
    "The dot (.) above means there is no restriction regarding the maximum lag of $w$. In other words, we use all available lags.\n",
    "Next, suppose variable $k$ is a strictly exogenous variable. So, we use IV() list:\n",
    "\n",
    "```\n",
    "IV(k)\n",
    "```\n",
    "This tells pydynpd to use variable $k$ itself as instrument.\n",
    "Finally, we put all GMM and IV lists together to form part 2:\n",
    "```\n",
    "GMM(n, 2:3) GMM(w, 1:.) IV(k)\n",
    "```\n",
    "\n",
    "Suppose our command just has the two parts above, then we combine the two parts together:"
   ]
  },
  {
   "cell_type": "code",
   "execution_count": null,
   "id": "8ef76f2b",
   "metadata": {},
   "outputs": [],
   "source": [
    "command_str='n L1.n L2.n w k  | GMM(n, 2:3) GMM(w, 1:.) IV(k)'\n"
   ]
  },
  {
   "cell_type": "markdown",
   "id": "4ed2ed7f",
   "metadata": {},
   "source": [
    "Finally, we use abond function to estimate our model. Note that three parameters should be provided. The first one is the command string discussed above. The second one is the data, and the third one is a list of two variables that indentify individual firm and year respectively. "
   ]
  },
  {
   "cell_type": "code",
   "execution_count": null,
   "id": "8a47a1de",
   "metadata": {},
   "outputs": [],
   "source": [
    "mydpd = regression.abond(command_str, df, ['id', 'year'])"
   ]
  }
 ],
 "metadata": {
  "kernelspec": {
   "display_name": "Python 3 (ipykernel)",
   "language": "python",
   "name": "python3"
  },
  "language_info": {
   "codemirror_mode": {
    "name": "ipython",
    "version": 3
   },
   "file_extension": ".py",
   "mimetype": "text/x-python",
   "name": "python",
   "nbconvert_exporter": "python",
   "pygments_lexer": "ipython3",
   "version": "3.9.7"
  }
 },
 "nbformat": 4,
 "nbformat_minor": 5
}
