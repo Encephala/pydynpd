{
 "cells": [
  {
   "cell_type": "markdown",
   "id": "a4357a62",
   "metadata": {},
   "source": [
    "# The abond command\n",
    "In this tutorial, we illustrate the functions of pydynpd with examples. The first data set is one from Arellano and Bond (1991). It is an unblanced panel with 140 firms over 9 years (1976-1984). You can download the data (data.csv) from the /benchmark/code folder. We first consider the following basic model:\n",
    "\n",
    "$$\n",
    "\\begin{align}\n",
    "n_{i,t}=\\alpha_1n_{i,t-1}+\\alpha_2n_{i,t-2}+\\beta_1w_{i,t}+\\gamma_1k_{i,t}+u_{i}+\\epsilon_{i,t}\n",
    "\\end{align}\n",
    "$$\n",
    "\n",
    "In the model above, variables $n$, $w$, and $k$ are the natural logarithm of employment, wage, and capital respectively. $u_{i}$ is unobserved fixed effect and $\\epsilon_{i,t}$ is idiosyncraic error. \n",
    "\n",
    "Assumptions:\n",
    "```\n",
    "$w$ is a predetermined variable\n",
    "$k$ is strictly exogenous\n",
    "```\n",
    "To estimate the model, we first load data to Pandas data frame:\n",
    "\n"
   ]
  },
  {
   "cell_type": "code",
   "execution_count": 4,
   "id": "7ca931c1-e7d1-484e-aae8-727801b3a60d",
   "metadata": {},
   "outputs": [],
   "source": [
    "import pandas as pd\n",
    "from  pydynpd import regression\n",
    "\n",
    "df = pd.read_csv(\"data.csv\")"
   ]
  },
  {
   "cell_type": "markdown",
   "id": "6a81769e",
   "metadata": {},
   "source": [
    "Then we construct command string to describe the model. A command string has two or three parts, which are separated by |.\n",
    "\n",
    "## Part 1\n",
    "Part 1 is a list starting with the dependent variable, and followed by independent variables except time dummies. Given the model, part 1 is:\n",
    "\n",
    "```\n",
    "n L1.n L2.n w k\n",
    "```\n",
    "In the command above, L is the lag operator as in L1.n (i.e., $n_{i,t-1}$) or L2.n for 2 lags of n (i.e., $n_{i,t-2}$). \n",
    "\n",
    "## Part 2\n",
    "\n",
    "Part 2 indicates how instruments are created. First, suppose we want to use the second and third lags of dependent variable n (i.e., L2.n and L3.n) as instruments, then we include the following gmm list:\n",
    "\n",
    "```\n",
    "gmm(n, 2:3)\n",
    "```\n",
    "Next, suppose we believe that variable w is a predetermined variable and use its first and deeper lags (i.e., L1.w, L2.w, ...) as instruments. Then we include a second gmm list:\n",
    "\n",
    "```\n",
    "gmm(w, 1:.)\n",
    "```\n",
    "The dot (.) above means there is no restriction regarding the maximum lag of $w$. In other words, we use all available lags.\n",
    "Next, suppose variable $k$ is a strictly exogenous variable. So, we use iv() list:\n",
    "\n",
    "```\n",
    "iv(k)\n",
    "```\n",
    "This tells pydynpd to use variable $k$ itself as instrument.\n",
    "Finally, we put all gmm and iv lists together to form part 2:\n",
    "```\n",
    "gmm(n, 2:3) gmm(w, 1:.) iv(k)\n",
    "```\n",
    "### Example 1\n",
    "Suppose our command just has the two parts above, then we combine the two parts together:"
   ]
  },
  {
   "cell_type": "code",
   "execution_count": 2,
   "id": "8ef76f2b",
   "metadata": {},
   "outputs": [],
   "source": [
    "command_str='n L1.n L2.n w k  | gmm(n, 2:3) gmm(w, 1:.) iv(k)'\n"
   ]
  },
  {
   "cell_type": "markdown",
   "id": "4ed2ed7f",
   "metadata": {},
   "source": [
    "Finally, we use abond function to estimate our model. Note that three parameters should be provided. The first one is the command string discussed above. The second one is the data, and the third one is a list of two variables that indentify individual firm and year respectively. "
   ]
  },
  {
   "cell_type": "code",
   "execution_count": 3,
   "id": "8a47a1de",
   "metadata": {},
   "outputs": [
    {
     "name": "stdout",
     "output_type": "stream",
     "text": [
      "Dynamic panel-data estimation, two-step system GMM\n",
      " Group variable: id             Number of obs = 751     \n",
      " Time variable: year            Min obs per group: 5    \n",
      " Number of instruments = 61     Max obs per group: 7    \n",
      " Number of groups = 140         Avg obs per group: 5.36 \n",
      "+------+------------+---------------------+------------+-----------+-----+\n",
      "|  n   |   coef.    | Corrected Std. Err. |     z      |   P>|z|   |     |\n",
      "+------+------------+---------------------+------------+-----------+-----+\n",
      "| L1.n | 0.9419692  |      0.1520193      | 6.1963777  | 0.0000000 | *** |\n",
      "| L2.n | -0.0641474 |      0.1106139      | -0.5799217 | 0.5619674 |     |\n",
      "|  w   | -0.5047742 |      0.1657322      | -3.0457210 | 0.0023212 |  ** |\n",
      "|  k   | 0.1087513  |      0.0513892      | 2.1162284  | 0.0343254 |  *  |\n",
      "| _con | 1.7119125  |      0.5527024      | 3.0973494  | 0.0019526 |  ** |\n",
      "+------+------------+---------------------+------------+-----------+-----+\n",
      "Hansen test of overid. restrictions: chi(56) = 98.073 Prob > Chi2 = 0.000\n",
      "Arellano-Bond test for AR(1) in first differences: z = -2.33 Pr > z =0.020\n",
      "Arellano-Bond test for AR(2) in first differences: z = -1.38 Pr > z =0.166\n",
      "\n"
     ]
    }
   ],
   "source": [
    "mydpd = regression.abond(command_str, df, ['id', 'year'])"
   ]
  },
  {
   "cell_type": "markdown",
   "id": "febda244-7e40-4542-9e6e-c1bc6980ccaa",
   "metadata": {},
   "source": [
    "We can also combine \"L1.n L2.n\" in model above to \"L(1:2).n\" and get the same result:"
   ]
  },
  {
   "cell_type": "code",
   "execution_count": 18,
   "id": "b1688e14-7a52-49eb-99bb-fe382ebb5a04",
   "metadata": {},
   "outputs": [
    {
     "name": "stdout",
     "output_type": "stream",
     "text": [
      "Dynamic panel-data estimation, two-step system GMM\n",
      " Group variable: id             Number of obs = 751     \n",
      " Time variable: year            Min obs per group: 5    \n",
      " Number of instruments = 61     Max obs per group: 7    \n",
      " Number of groups = 140         Avg obs per group: 5.36 \n",
      "+------+------------+---------------------+------------+-----------+-----+\n",
      "|  n   |   coef.    | Corrected Std. Err. |     z      |   P>|z|   |     |\n",
      "+------+------------+---------------------+------------+-----------+-----+\n",
      "| L1.n | 0.9419692  |      0.1520193      | 6.1963777  | 0.0000000 | *** |\n",
      "| L2.n | -0.0641474 |      0.1106139      | -0.5799217 | 0.5619674 |     |\n",
      "|  w   | -0.5047742 |      0.1657322      | -3.0457210 | 0.0023212 |  ** |\n",
      "|  k   | 0.1087513  |      0.0513892      | 2.1162284  | 0.0343254 |  *  |\n",
      "| _con | 1.7119125  |      0.5527024      | 3.0973494  | 0.0019526 |  ** |\n",
      "+------+------------+---------------------+------------+-----------+-----+\n",
      "Hansen test of overid. restrictions: chi(56) = 98.073 Prob > Chi2 = 0.000\n",
      "Arellano-Bond test for AR(1) in first differences: z = -2.33 Pr > z =0.020\n",
      "Arellano-Bond test for AR(2) in first differences: z = -1.38 Pr > z =0.166\n",
      "\n"
     ]
    }
   ],
   "source": [
    "command_str='n L(1:2).n w k  | gmm(n, 2:3) gmm(w, 1:.) iv(k)'\n",
    "mydpd = regression.abond(command_str, df, ['id', 'year'])"
   ]
  },
  {
   "cell_type": "markdown",
   "id": "e9a2d131-5e97-4474-ae0c-340134804cec",
   "metadata": {},
   "source": [
    "The result shows that the regression is a two-step system GMM, which is the default setting because we didn't include part 3 in our command string. There are 140 firms in the imbalanced sample over 7 (=9-2) years as we include the second lag of the dependent variable (i.e., L2.n). Hansen over-identification test is significant, which means that our choices of instruments are not exogenous. Finally, Arellano-Bond test for AR(2) is not significant, indicating that the second lag of dependent variable can be treated as instrument.\n",
    "\n",
    "Because the regression doesn't pass Hansen over-identification test, we change our assumptions to:\n",
    "'''\n",
    "Both $w$ and $k$ are predetermined variables\n",
    "'''\n",
    "\n",
    "### Example 2\n",
    "Then we modify our code as follows. Note that \"gmm (w, 1:.) iv(k)\" is changed to \"gmm(w k, 1:.)\" based on the new assumption. We also remove L2.n from the model as it was not significant in the previous regression. This also has a benefit: we can increase the number of observations in regression."
   ]
  },
  {
   "cell_type": "code",
   "execution_count": 8,
   "id": "871381c6-c830-49ed-ad23-7bd68dfb8e98",
   "metadata": {},
   "outputs": [
    {
     "name": "stdout",
     "output_type": "stream",
     "text": [
      "Dynamic panel-data estimation, two-step system GMM\n",
      " Group variable: id              Number of obs = 891     \n",
      " Time variable: year             Min obs per group: 6    \n",
      " Number of instruments = 114     Max obs per group: 8    \n",
      " Number of groups = 140          Avg obs per group: 6.36 \n",
      "+------+------------+---------------------+------------+-----------+-----+\n",
      "|  n   |   coef.    | Corrected Std. Err. |     z      |   P>|z|   |     |\n",
      "+------+------------+---------------------+------------+-----------+-----+\n",
      "| L1.n | 0.7935989  |      0.0565875      | 14.0242815 | 0.0000000 | *** |\n",
      "|  w   | -0.4136271 |      0.1085985      | -3.8087729 | 0.0001397 | *** |\n",
      "|  k   | 0.1725401  |      0.0429983      | 4.0127198  | 0.0000600 | *** |\n",
      "| _con | 1.5551505  |      0.3717905      | 4.1828675  | 0.0000288 | *** |\n",
      "+------+------------+---------------------+------------+-----------+-----+\n",
      "Hansen test of overid. restrictions: chi(110) = 126.302 Prob > Chi2 = 0.137\n",
      "Arellano-Bond test for AR(1) in first differences: z = -2.61 Pr > z =0.009\n",
      "Arellano-Bond test for AR(2) in first differences: z = -1.20 Pr > z =0.232\n",
      "\n"
     ]
    }
   ],
   "source": [
    "command_str='n L1.n w k  | gmm(n, 2:3) gmm(w k, 1:.)'\n",
    "mydpd = regression.abond(command_str, df, ['id', 'year'])"
   ]
  },
  {
   "cell_type": "markdown",
   "id": "0bc1e774-a708-4448-b1b0-145bebc764ff",
   "metadata": {},
   "source": [
    "As you can see, now the model passes both Hansen and Arellano-Bond tests. \n",
    "\n",
    "### Example 3\n",
    "Apart from gmm() and iv(), we can also use endo() and pred() for convinience in part 2. endo(list of variables) is equivelent to gmm(list of variables, 2:.) while pred(list of variables) is the same as gmm(list of variables, 1:.).\n",
    "\n",
    "For example, the code for the second model can be changed as follows and we get the same result."
   ]
  },
  {
   "cell_type": "code",
   "execution_count": 9,
   "id": "f5d4889a-044b-4fa2-996a-1c6d47896524",
   "metadata": {},
   "outputs": [
    {
     "name": "stdout",
     "output_type": "stream",
     "text": [
      "Dynamic panel-data estimation, two-step system GMM\n",
      " Group variable: id              Number of obs = 891     \n",
      " Time variable: year             Min obs per group: 6    \n",
      " Number of instruments = 114     Max obs per group: 8    \n",
      " Number of groups = 140          Avg obs per group: 6.36 \n",
      "+------+------------+---------------------+------------+-----------+-----+\n",
      "|  n   |   coef.    | Corrected Std. Err. |     z      |   P>|z|   |     |\n",
      "+------+------------+---------------------+------------+-----------+-----+\n",
      "| L1.n | 0.7935989  |      0.0565875      | 14.0242815 | 0.0000000 | *** |\n",
      "|  w   | -0.4136271 |      0.1085985      | -3.8087729 | 0.0001397 | *** |\n",
      "|  k   | 0.1725401  |      0.0429983      | 4.0127198  | 0.0000600 | *** |\n",
      "| _con | 1.5551505  |      0.3717905      | 4.1828675  | 0.0000288 | *** |\n",
      "+------+------------+---------------------+------------+-----------+-----+\n",
      "Hansen test of overid. restrictions: chi(110) = 126.302 Prob > Chi2 = 0.137\n",
      "Arellano-Bond test for AR(1) in first differences: z = -2.61 Pr > z =0.009\n",
      "Arellano-Bond test for AR(2) in first differences: z = -1.20 Pr > z =0.232\n",
      "\n"
     ]
    }
   ],
   "source": [
    "command_str='n L1.n w k  | gmm(n, 2:3) pred(w k)'\n",
    "mydpd = regression.abond(command_str, df, ['id', 'year'])"
   ]
  },
  {
   "cell_type": "markdown",
   "id": "9c7f4b84-88af-4871-a55a-837159692adf",
   "metadata": {},
   "source": [
    "## Part 3\n",
    "We can change the default settings in part 3 of our command string. Part 3 includes the following possible options:\n",
    "- onestep: perform one-step GMM estimation rather than the default two-step GMM estimation.\n",
    "- nolevel: only perform difference GMM\n",
    "- timedumm: automatically include time dummies in part 1, and IV statement in part 2.\n",
    "- collapse: collapse instruments to reduce the proeblem of too many instruments\n",
    "\n",
    "### Example 4\n",
    "For example, we can change the regression to a one-step difference GMM by adding part 3 in our command string. Also, suppose we want to include more lagged dependent variables as instruments. That is, we want to use all available lagged $n$ rather than just L2.n and L3.n in the previous models. So, we change gmm(n, 2:3) to gmm(n, 2:.) which is then simplified to endo(n)."
   ]
  },
  {
   "cell_type": "code",
   "execution_count": 15,
   "id": "36c4c841-25b2-40bd-ac32-62969877d38c",
   "metadata": {},
   "outputs": [
    {
     "name": "stdout",
     "output_type": "stream",
     "text": [
      "Dynamic panel-data estimation, one-step difference GMM\n",
      " Group variable: id              Number of obs = 751     \n",
      " Time variable: year             Min obs per group: 6    \n",
      " Number of instruments = 105     Max obs per group: 8    \n",
      " Number of groups = 140          Avg obs per group: 6.36 \n",
      "+------+------------+---------------------+-------------+-----------+-----+\n",
      "|  n   |   coef.    | Corrected Std. Err. |      z      |   P>|z|   |     |\n",
      "+------+------------+---------------------+-------------+-----------+-----+\n",
      "| L1.n | 0.4145541  |      0.0708631      |  5.8500695  | 0.0000000 | *** |\n",
      "|  w   | -0.9256463 |      0.0891816      | -10.3793415 | 0.0000000 | *** |\n",
      "|  k   | 0.3773193  |      0.0437854      |  8.6174729  | 0.0000000 | *** |\n",
      "+------+------------+---------------------+-------------+-----------+-----+\n",
      "Hansen test of overid. restrictions: chi(102) = 115.193 Prob > Chi2 = 0.175\n",
      "Arellano-Bond test for AR(1) in first differences: z = -3.99 Pr > z =0.000\n",
      "Arellano-Bond test for AR(2) in first differences: z = -0.95 Pr > z =0.344\n",
      "\n"
     ]
    }
   ],
   "source": [
    "command_str='n L1.n w k  | endo(n) pred(w k) | onestep nolevel'\n",
    "mydpd = regression.abond(command_str, df, ['id', 'year'])"
   ]
  },
  {
   "cell_type": "markdown",
   "id": "62cb5153-1515-4615-a493-f36db115ac43",
   "metadata": {},
   "source": [
    "### Example 5\n",
    "We can also add time dummy variables to the previous model:"
   ]
  },
  {
   "cell_type": "code",
   "execution_count": 16,
   "id": "2d2c7a29-e322-43cf-9698-104e223afaa2",
   "metadata": {},
   "outputs": [
    {
     "name": "stdout",
     "output_type": "stream",
     "text": [
      "Dynamic panel-data estimation, one-step difference GMM\n",
      " Group variable: id              Number of obs = 751     \n",
      " Time variable: year             Min obs per group: 6    \n",
      " Number of instruments = 112     Max obs per group: 8    \n",
      " Number of groups = 140          Avg obs per group: 6.36 \n",
      "+-----------+------------+---------------------+------------+-----------+-----+\n",
      "|     n     |   coef.    | Corrected Std. Err. |     z      |   P>|z|   |     |\n",
      "+-----------+------------+---------------------+------------+-----------+-----+\n",
      "|    L1.n   | 0.4874768  |      0.0858172      | 5.6804061  | 0.0000000 | *** |\n",
      "|     w     | -0.6282987 |      0.1413220      | -4.4458657 | 0.0000088 | *** |\n",
      "|     k     | 0.3321728  |      0.0477929      | 6.9502543  | 0.0000000 | *** |\n",
      "| year_1978 | -0.0263750 |      0.0129610      | -2.0349499 | 0.0418559 |  *  |\n",
      "| year_1979 | -0.0322775 |      0.0158671      | -2.0342438 | 0.0419270 |  *  |\n",
      "| year_1980 | -0.0603802 |      0.0168346      | -3.5866738 | 0.0003349 | *** |\n",
      "| year_1981 | -0.0999849 |      0.0202538      | -4.9365975 | 0.0000008 | *** |\n",
      "| year_1982 | -0.0786904 |      0.0214670      | -3.6656394 | 0.0002467 | *** |\n",
      "| year_1983 | -0.0377040 |      0.0256607      | -1.4693321 | 0.1417427 |     |\n",
      "| year_1984 | -0.0040867 |      0.0340641      | -0.1199710 | 0.9045061 |     |\n",
      "+-----------+------------+---------------------+------------+-----------+-----+\n",
      "Hansen test of overid. restrictions: chi(102) = 114.180 Prob > Chi2 = 0.193\n",
      "Arellano-Bond test for AR(1) in first differences: z = -4.20 Pr > z =0.000\n",
      "Arellano-Bond test for AR(2) in first differences: z = -0.70 Pr > z =0.482\n",
      "\n"
     ]
    }
   ],
   "source": [
    "command_str='n L1.n w k  | endo(n) pred(w k) | onestep nolevel timedumm'\n",
    "mydpd = regression.abond(command_str, df, ['id', 'year'])"
   ]
  },
  {
   "cell_type": "code",
   "execution_count": 17,
   "id": "8064c4b9-58bb-4cb6-881b-d31f8d88a099",
   "metadata": {},
   "outputs": [
    {
     "name": "stdout",
     "output_type": "stream",
     "text": [
      "model 1\n",
      " n  L1.n  w  k | gmm(n, 2:3) pred(w k)\n",
      "Dynamic panel-data estimation, two-step system GMM\n",
      " Group variable: id              Number of obs = 891     \n",
      " Time variable: year             Min obs per group: 6    \n",
      " Number of instruments = 114     Max obs per group: 8    \n",
      " Number of groups = 140          Avg obs per group: 6.36 \n",
      "+------+------------+---------------------+------------+-----------+-----+\n",
      "|  n   |   coef.    | Corrected Std. Err. |     z      |   P>|z|   |     |\n",
      "+------+------------+---------------------+------------+-----------+-----+\n",
      "| L1.n | 0.7935989  |      0.0565875      | 14.0242815 | 0.0000000 | *** |\n",
      "|  w   | -0.4136271 |      0.1085985      | -3.8087729 | 0.0001397 | *** |\n",
      "|  k   | 0.1725401  |      0.0429983      | 4.0127198  | 0.0000600 | *** |\n",
      "| _con | 1.5551505  |      0.3717905      | 4.1828675  | 0.0000288 | *** |\n",
      "+------+------------+---------------------+------------+-----------+-----+\n",
      "Hansen test of overid. restrictions: chi(110) = 126.302 Prob > Chi2 = 0.137\n",
      "Arellano-Bond test for AR(1) in first differences: z = -2.61 Pr > z =0.009\n",
      "Arellano-Bond test for AR(2) in first differences: z = -1.20 Pr > z =0.232\n",
      "\n",
      "model 2\n",
      " n  L1.n  L2.n  w  k | gmm(n, 2:3) pred(w k)\n",
      "Dynamic panel-data estimation, two-step system GMM\n",
      " Group variable: id              Number of obs = 751     \n",
      " Time variable: year             Min obs per group: 5    \n",
      " Number of instruments = 106     Max obs per group: 7    \n",
      " Number of groups = 140          Avg obs per group: 5.36 \n",
      "+------+------------+---------------------+------------+-----------+-----+\n",
      "|  n   |   coef.    | Corrected Std. Err. |     z      |   P>|z|   |     |\n",
      "+------+------------+---------------------+------------+-----------+-----+\n",
      "| L1.n | 0.8810259  |      0.1156698      | 7.6167327  | 0.0000000 | *** |\n",
      "| L2.n | -0.0707774 |      0.0929729      | -0.7612694 | 0.4464962 |     |\n",
      "|  w   | -0.3496778 |      0.1490631      | -2.3458375 | 0.0189844 |  *  |\n",
      "|  k   | 0.1659545  |      0.0406652      | 4.0809914  | 0.0000448 | *** |\n",
      "| _con | 1.3281202  |      0.4975193      | 2.6694848  | 0.0075968 |  ** |\n",
      "+------+------------+---------------------+------------+-----------+-----+\n",
      "Hansen test of overid. restrictions: chi(101) = 124.139 Prob > Chi2 = 0.059\n",
      "Arellano-Bond test for AR(1) in first differences: z = -2.32 Pr > z =0.020\n",
      "Arellano-Bond test for AR(2) in first differences: z = -1.02 Pr > z =0.306\n",
      "\n",
      "model 3\n",
      " n  L1.n  L2.n  L3.n  w  k | gmm(n, 2:3) pred(w k)\n",
      "model 4\n",
      " n  L1.n  L2.n  L3.n  L4.n  w  k | gmm(n, 2:3) pred(w k)\n",
      "model 5\n",
      " n  L1.n  L2.n  L3.n  L4.n  L5.n  w  k | gmm(n, 2:3) pred(w k)\n",
      "Dynamic panel-data estimation, two-step system GMM\n",
      " Group variable: id             Number of obs = 331     \n",
      " Time variable: year            Min obs per group: 2    \n",
      " Number of instruments = 64     Max obs per group: 4    \n",
      " Number of groups = 140         Avg obs per group: 2.36 \n",
      "+------+------------+---------------------+------------+-----------+-----+\n",
      "|  n   |   coef.    | Corrected Std. Err. |     z      |   P>|z|   |     |\n",
      "+------+------------+---------------------+------------+-----------+-----+\n",
      "| L1.n | 0.6340724  |      0.1835971      | 3.4536074  | 0.0005531 | *** |\n",
      "| L2.n | -0.0607627 |      0.0723755      | -0.8395480 | 0.4011619 |     |\n",
      "| L3.n | 0.1473044  |      0.2036886      | 0.7231843  | 0.4695667 |     |\n",
      "| L4.n | -0.4428588 |      0.3586298      | -1.2348633 | 0.2168814 |     |\n",
      "| L5.n | 0.3780935  |      0.1741532      | 2.1710401  | 0.0299281 |  *  |\n",
      "|  w   | -0.1643259 |      0.1510964      | -1.0875572 | 0.2767906 |     |\n",
      "|  k   | 0.2462988  |      0.0911498      | 2.7021318  | 0.0068896 |  ** |\n",
      "| _con | 0.9023554  |      0.5662339      | 1.5936089  | 0.1110237 |     |\n",
      "+------+------------+---------------------+------------+-----------+-----+\n",
      "Hansen test of overid. restrictions: chi(56) = 72.629 Prob > Chi2 = 0.067\n",
      "Arellano-Bond test for AR(1) in first differences: z = -1.16 Pr > z =0.246\n",
      "Arellano-Bond test for AR(2) in first differences: z = -0.74 Pr > z =0.460\n",
      "\n"
     ]
    }
   ],
   "source": [
    "command_str='n L(1:?).n w k  | gmm(n, 2:3) pred(w k)'\n",
    "mydpd = regression.abond(command_str, df, ['id', 'year'])"
   ]
  },
  {
   "cell_type": "code",
   "execution_count": null,
   "id": "a21ccfb1-466c-4964-9deb-18fa0c938278",
   "metadata": {},
   "outputs": [],
   "source": []
  }
 ],
 "metadata": {
  "kernelspec": {
   "display_name": "Python 3 (ipykernel)",
   "language": "python",
   "name": "python3"
  },
  "language_info": {
   "codemirror_mode": {
    "name": "ipython",
    "version": 3
   },
   "file_extension": ".py",
   "mimetype": "text/x-python",
   "name": "python",
   "nbconvert_exporter": "python",
   "pygments_lexer": "ipython3",
   "version": "3.10.3"
  }
 },
 "nbformat": 4,
 "nbformat_minor": 5
}
